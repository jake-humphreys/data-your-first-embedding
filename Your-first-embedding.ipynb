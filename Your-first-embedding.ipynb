{
 "cells": [
  {
   "cell_type": "markdown",
   "metadata": {},
   "source": [
    "# Your first embedding\n",
    "\n",
    "## Exercise objectives:\n",
    "- Run your first RNN for NLP\n",
    "- Get a first taste of what an embedding is\n",
    "\n",
    "<hr>\n",
    "\n",
    "Words are not something you can easily feed to a Neural Network. For this reason, we have to convert them to something more meaningful. \n",
    "\n",
    "And this is exactly what _Embeddings_ are for! They map any word onto a vectorial representation (this a fancy way to represent each word with a vector ;) ). For instance, the word `dog` can be represented by the vector $(w_1, w_2, ..., w_n)$ in the embedding space, and we will learn the weights $(w_k)_k$.\n",
    "\n",
    "So let's just do it.\n",
    "\n",
    "\n",
    "# The data\n",
    "\n",
    "\n",
    "❓ **Question** ❓ Let's first load the data. You don't have to understand what is going on in the function, it does not matter here.\n",
    "\n",
    "⚠️ **Warning** ⚠️ The `load_data` function has a `percentage_of_sentences` argument. Depending on your computer, there are chances that too many sentences will make your compute slow down, or even freeze - your RAM can overflow. For that reason, **you should start with 10% of the sentences** and see if your computer handles it. Otherwise, rerun with a lower number. \n",
    "\n",
    "⚠️ **DISCLAIMER** ⚠️ **No need to play _who has the biggest_ (RAM) !** The idea is to get to run your models quickly to prototype. Even in real life, it is recommended that you start with a subset of your data to loop and debug quickly. So increase the number only if you are into getting the best accuracy. "
   ]
  },
  {
   "cell_type": "code",
   "execution_count": 1,
   "metadata": {},
   "outputs": [
    {
     "name": "stderr",
     "output_type": "stream",
     "text": [
      "2023-06-02 10:34:24.400462: I tensorflow/core/platform/cpu_feature_guard.cc:193] This TensorFlow binary is optimized with oneAPI Deep Neural Network Library (oneDNN) to use the following CPU instructions in performance-critical operations:  AVX2 AVX_VNNI FMA\n",
      "To enable them in other operations, rebuild TensorFlow with the appropriate compiler flags.\n",
      "2023-06-02 10:34:24.663427: I tensorflow/core/util/util.cc:169] oneDNN custom operations are on. You may see slightly different numerical results due to floating-point round-off errors from different computation orders. To turn them off, set the environment variable `TF_ENABLE_ONEDNN_OPTS=0`.\n",
      "2023-06-02 10:34:24.685144: W tensorflow/stream_executor/platform/default/dso_loader.cc:64] Could not load dynamic library 'libcudart.so.11.0'; dlerror: libcudart.so.11.0: cannot open shared object file: No such file or directory\n",
      "2023-06-02 10:34:24.685159: I tensorflow/stream_executor/cuda/cudart_stub.cc:29] Ignore above cudart dlerror if you do not have a GPU set up on your machine.\n",
      "2023-06-02 10:34:24.713218: E tensorflow/stream_executor/cuda/cuda_blas.cc:2981] Unable to register cuBLAS factory: Attempting to register factory for plugin cuBLAS when one has already been registered\n",
      "2023-06-02 10:34:25.394892: W tensorflow/stream_executor/platform/default/dso_loader.cc:64] Could not load dynamic library 'libnvinfer.so.7'; dlerror: libnvinfer.so.7: cannot open shared object file: No such file or directory\n",
      "2023-06-02 10:34:25.395031: W tensorflow/stream_executor/platform/default/dso_loader.cc:64] Could not load dynamic library 'libnvinfer_plugin.so.7'; dlerror: libnvinfer_plugin.so.7: cannot open shared object file: No such file or directory\n",
      "2023-06-02 10:34:25.395038: W tensorflow/compiler/tf2tensorrt/utils/py_utils.cc:38] TF-TRT Warning: Cannot dlopen some TensorRT libraries. If you would like to use Nvidia GPU with TensorRT, please make sure the missing libraries mentioned above are installed properly.\n"
     ]
    },
    {
     "name": "stdout",
     "output_type": "stream",
     "text": [
      "\u001b[1mDownloading and preparing dataset 80.23 MiB (download: 80.23 MiB, generated: Unknown size, total: 80.23 MiB) to ~/tensorflow_datasets/imdb_reviews/plain_text/1.0.0...\u001b[0m\n"
     ]
    },
    {
     "data": {
      "application/vnd.jupyter.widget-view+json": {
       "model_id": "999d7012213b4139afb439fbbe595ddf",
       "version_major": 2,
       "version_minor": 0
      },
      "text/plain": [
       "Dl Completed...: 0 url [00:00, ? url/s]"
      ]
     },
     "metadata": {},
     "output_type": "display_data"
    },
    {
     "data": {
      "application/vnd.jupyter.widget-view+json": {
       "model_id": "863018a6b8374367a78486cf05bf036e",
       "version_major": 2,
       "version_minor": 0
      },
      "text/plain": [
       "Dl Size...: 0 MiB [00:00, ? MiB/s]"
      ]
     },
     "metadata": {},
     "output_type": "display_data"
    },
    {
     "data": {
      "application/vnd.jupyter.widget-view+json": {
       "model_id": "",
       "version_major": 2,
       "version_minor": 0
      },
      "text/plain": [
       "Generating splits...:   0%|          | 0/3 [00:00<?, ? splits/s]"
      ]
     },
     "metadata": {},
     "output_type": "display_data"
    },
    {
     "data": {
      "application/vnd.jupyter.widget-view+json": {
       "model_id": "",
       "version_major": 2,
       "version_minor": 0
      },
      "text/plain": [
       "Generating train examples...:   0%|          | 0/25000 [00:00<?, ? examples/s]"
      ]
     },
     "metadata": {},
     "output_type": "display_data"
    },
    {
     "data": {
      "application/vnd.jupyter.widget-view+json": {
       "model_id": "",
       "version_major": 2,
       "version_minor": 0
      },
      "text/plain": [
       "Shuffling ~/tensorflow_datasets/imdb_reviews/plain_text/1.0.0.incompleteU1NUAY/imdb_reviews-train.tfrecord*...…"
      ]
     },
     "metadata": {},
     "output_type": "display_data"
    },
    {
     "data": {
      "application/vnd.jupyter.widget-view+json": {
       "model_id": "",
       "version_major": 2,
       "version_minor": 0
      },
      "text/plain": [
       "Generating test examples...:   0%|          | 0/25000 [00:00<?, ? examples/s]"
      ]
     },
     "metadata": {},
     "output_type": "display_data"
    },
    {
     "data": {
      "application/vnd.jupyter.widget-view+json": {
       "model_id": "",
       "version_major": 2,
       "version_minor": 0
      },
      "text/plain": [
       "Shuffling ~/tensorflow_datasets/imdb_reviews/plain_text/1.0.0.incompleteU1NUAY/imdb_reviews-test.tfrecord*...:…"
      ]
     },
     "metadata": {},
     "output_type": "display_data"
    },
    {
     "data": {
      "application/vnd.jupyter.widget-view+json": {
       "model_id": "",
       "version_major": 2,
       "version_minor": 0
      },
      "text/plain": [
       "Generating unsupervised examples...:   0%|          | 0/50000 [00:00<?, ? examples/s]"
      ]
     },
     "metadata": {},
     "output_type": "display_data"
    },
    {
     "data": {
      "application/vnd.jupyter.widget-view+json": {
       "model_id": "",
       "version_major": 2,
       "version_minor": 0
      },
      "text/plain": [
       "Shuffling ~/tensorflow_datasets/imdb_reviews/plain_text/1.0.0.incompleteU1NUAY/imdb_reviews-unsupervised.tfrec…"
      ]
     },
     "metadata": {},
     "output_type": "display_data"
    },
    {
     "name": "stdout",
     "output_type": "stream",
     "text": [
      "\u001b[1mDataset imdb_reviews downloaded and prepared to ~/tensorflow_datasets/imdb_reviews/plain_text/1.0.0. Subsequent calls will reuse this data.\u001b[0m\n"
     ]
    },
    {
     "name": "stderr",
     "output_type": "stream",
     "text": [
      "2023-06-02 10:35:07.896264: I tensorflow/stream_executor/cuda/cuda_gpu_executor.cc:966] could not open file to read NUMA node: /sys/bus/pci/devices/0000:01:00.0/numa_node\n",
      "Your kernel may have been built without NUMA support.\n",
      "2023-06-02 10:35:07.896628: W tensorflow/stream_executor/platform/default/dso_loader.cc:64] Could not load dynamic library 'libcudart.so.11.0'; dlerror: libcudart.so.11.0: cannot open shared object file: No such file or directory\n",
      "2023-06-02 10:35:07.896699: W tensorflow/stream_executor/platform/default/dso_loader.cc:64] Could not load dynamic library 'libcublas.so.11'; dlerror: libcublas.so.11: cannot open shared object file: No such file or directory\n",
      "2023-06-02 10:35:07.896753: W tensorflow/stream_executor/platform/default/dso_loader.cc:64] Could not load dynamic library 'libcublasLt.so.11'; dlerror: libcublasLt.so.11: cannot open shared object file: No such file or directory\n",
      "2023-06-02 10:35:07.896781: W tensorflow/stream_executor/platform/default/dso_loader.cc:64] Could not load dynamic library 'libcufft.so.10'; dlerror: libcufft.so.10: cannot open shared object file: No such file or directory\n",
      "2023-06-02 10:35:07.896806: W tensorflow/stream_executor/platform/default/dso_loader.cc:64] Could not load dynamic library 'libcurand.so.10'; dlerror: libcurand.so.10: cannot open shared object file: No such file or directory\n",
      "2023-06-02 10:35:07.896830: W tensorflow/stream_executor/platform/default/dso_loader.cc:64] Could not load dynamic library 'libcusolver.so.11'; dlerror: libcusolver.so.11: cannot open shared object file: No such file or directory\n",
      "2023-06-02 10:35:07.896863: W tensorflow/stream_executor/platform/default/dso_loader.cc:64] Could not load dynamic library 'libcusparse.so.11'; dlerror: libcusparse.so.11: cannot open shared object file: No such file or directory\n",
      "2023-06-02 10:35:07.896887: W tensorflow/stream_executor/platform/default/dso_loader.cc:64] Could not load dynamic library 'libcudnn.so.8'; dlerror: libcudnn.so.8: cannot open shared object file: No such file or directory\n",
      "2023-06-02 10:35:07.896972: W tensorflow/core/common_runtime/gpu/gpu_device.cc:1934] Cannot dlopen some GPU libraries. Please make sure the missing libraries mentioned above are installed properly if you would like to use GPU. Follow the guide at https://www.tensorflow.org/install/gpu for how to download and setup the required libraries for your platform.\n",
      "Skipping registering GPU devices...\n",
      "2023-06-02 10:35:07.898617: I tensorflow/core/platform/cpu_feature_guard.cc:193] This TensorFlow binary is optimized with oneAPI Deep Neural Network Library (oneDNN) to use the following CPU instructions in performance-critical operations:  AVX2 AVX_VNNI FMA\n",
      "To enable them in other operations, rebuild TensorFlow with the appropriate compiler flags.\n"
     ]
    }
   ],
   "source": [
    "###########################################\n",
    "### Just run this cell to load the data ###\n",
    "###########################################\n",
    "\n",
    "import tensorflow_datasets as tfds\n",
    "from tensorflow.keras.preprocessing.text import text_to_word_sequence\n",
    "\n",
    "def load_data(percentage_of_sentences=None):\n",
    "    train_data, test_data = tfds.load(name=\"imdb_reviews\", split=[\"train\", \"test\"], batch_size=-1, as_supervised=True)\n",
    "\n",
    "    train_sentences, y_train = tfds.as_numpy(train_data)\n",
    "    test_sentences, y_test = tfds.as_numpy(test_data)\n",
    "    \n",
    "    # Take only a given percentage of the entire data\n",
    "    if percentage_of_sentences is not None:\n",
    "        assert(percentage_of_sentences> 0 and percentage_of_sentences<=100)\n",
    "        \n",
    "        len_train = int(percentage_of_sentences/100*len(train_sentences))\n",
    "        train_sentences, y_train = train_sentences[:len_train], y_train[:len_train]\n",
    "  \n",
    "        len_test = int(percentage_of_sentences/100*len(test_sentences))\n",
    "        test_sentences, y_test = test_sentences[:len_test], y_test[:len_test]\n",
    "    \n",
    "    X_train = [text_to_word_sequence(_.decode(\"utf-8\")) for _ in train_sentences]\n",
    "    X_test = [text_to_word_sequence(_.decode(\"utf-8\")) for _ in test_sentences]\n",
    "    \n",
    "    return X_train, y_train, X_test, y_test\n",
    "\n",
    "X_train, y_train, X_test, y_test = load_data(percentage_of_sentences=10)"
   ]
  },
  {
   "cell_type": "markdown",
   "metadata": {},
   "source": [
    "Now that you have loaded the data, let's check it out!\n",
    "\n",
    "❓ **Question** ❓ You can play with the data here. In particular, `X_train` and `X_test` are lists of sentences. Let's print some of them, with their respective label stored in `y_train` and `y_test`."
   ]
  },
  {
   "cell_type": "code",
   "execution_count": 23,
   "metadata": {},
   "outputs": [],
   "source": [
    "X_train_seqlen = [len(seq) for seq in X_train]"
   ]
  },
  {
   "cell_type": "code",
   "execution_count": 22,
   "metadata": {},
   "outputs": [],
   "source": [
    "import matplotlib.pyplot as plt"
   ]
  },
  {
   "cell_type": "code",
   "execution_count": 24,
   "metadata": {},
   "outputs": [
    {
     "data": {
      "text/plain": [
       "(array([825., 922., 364., 177.,  84.,  56.,  33.,  20.,  18.,   1.]),\n",
       " array([  25. ,  138.9,  252.8,  366.7,  480.6,  594.5,  708.4,  822.3,\n",
       "         936.2, 1050.1, 1164. ]),\n",
       " <BarContainer object of 10 artists>)"
      ]
     },
     "execution_count": 24,
     "metadata": {},
     "output_type": "execute_result"
    },
    {
     "data": {
      "image/png": "[encoded data removed]",
      "text/plain": [
       "<Figure size 640x480 with 1 Axes>"
      ]
     },
     "metadata": {},
     "output_type": "display_data"
    }
   ],
   "source": [
    "plt.hist(X_train_seqlen)"
   ]
  },
  {
   "cell_type": "code",
   "execution_count": 3,
   "metadata": {
    "tags": [
     "challengify"
    ]
   },
   "outputs": [
    {
     "data": {
      "text/plain": [
       "['this',\n",
       " 'was',\n",
       " 'an',\n",
       " 'absolutely',\n",
       " 'terrible',\n",
       " 'movie',\n",
       " \"don't\",\n",
       " 'be',\n",
       " 'lured',\n",
       " 'in',\n",
       " 'by',\n",
       " 'christopher',\n",
       " 'walken',\n",
       " 'or',\n",
       " 'michael',\n",
       " 'ironside',\n",
       " 'both',\n",
       " 'are',\n",
       " 'great',\n",
       " 'actors',\n",
       " 'but',\n",
       " 'this',\n",
       " 'must',\n",
       " 'simply',\n",
       " 'be',\n",
       " 'their',\n",
       " 'worst',\n",
       " 'role',\n",
       " 'in',\n",
       " 'history',\n",
       " 'even',\n",
       " 'their',\n",
       " 'great',\n",
       " 'acting',\n",
       " 'could',\n",
       " 'not',\n",
       " 'redeem',\n",
       " 'this',\n",
       " \"movie's\",\n",
       " 'ridiculous',\n",
       " 'storyline',\n",
       " 'this',\n",
       " 'movie',\n",
       " 'is',\n",
       " 'an',\n",
       " 'early',\n",
       " 'nineties',\n",
       " 'us',\n",
       " 'propaganda',\n",
       " 'piece',\n",
       " 'the',\n",
       " 'most',\n",
       " 'pathetic',\n",
       " 'scenes',\n",
       " 'were',\n",
       " 'those',\n",
       " 'when',\n",
       " 'the',\n",
       " 'columbian',\n",
       " 'rebels',\n",
       " 'were',\n",
       " 'making',\n",
       " 'their',\n",
       " 'cases',\n",
       " 'for',\n",
       " 'revolutions',\n",
       " 'maria',\n",
       " 'conchita',\n",
       " 'alonso',\n",
       " 'appeared',\n",
       " 'phony',\n",
       " 'and',\n",
       " 'her',\n",
       " 'pseudo',\n",
       " 'love',\n",
       " 'affair',\n",
       " 'with',\n",
       " 'walken',\n",
       " 'was',\n",
       " 'nothing',\n",
       " 'but',\n",
       " 'a',\n",
       " 'pathetic',\n",
       " 'emotional',\n",
       " 'plug',\n",
       " 'in',\n",
       " 'a',\n",
       " 'movie',\n",
       " 'that',\n",
       " 'was',\n",
       " 'devoid',\n",
       " 'of',\n",
       " 'any',\n",
       " 'real',\n",
       " 'meaning',\n",
       " 'i',\n",
       " 'am',\n",
       " 'disappointed',\n",
       " 'that',\n",
       " 'there',\n",
       " 'are',\n",
       " 'movies',\n",
       " 'like',\n",
       " 'this',\n",
       " 'ruining',\n",
       " \"actor's\",\n",
       " 'like',\n",
       " 'christopher',\n",
       " \"walken's\",\n",
       " 'good',\n",
       " 'name',\n",
       " 'i',\n",
       " 'could',\n",
       " 'barely',\n",
       " 'sit',\n",
       " 'through',\n",
       " 'it']"
      ]
     },
     "execution_count": 3,
     "metadata": {},
     "output_type": "execute_result"
    }
   ],
   "source": [
    "X_train[0]"
   ]
  },
  {
   "cell_type": "code",
   "execution_count": 7,
   "metadata": {},
   "outputs": [
    {
     "data": {
      "text/plain": [
       "['i',\n",
       " 'have',\n",
       " 'been',\n",
       " 'known',\n",
       " 'to',\n",
       " 'fall',\n",
       " 'asleep',\n",
       " 'during',\n",
       " 'films',\n",
       " 'but',\n",
       " 'this',\n",
       " 'is',\n",
       " 'usually',\n",
       " 'due',\n",
       " 'to',\n",
       " 'a',\n",
       " 'combination',\n",
       " 'of',\n",
       " 'things',\n",
       " 'including',\n",
       " 'really',\n",
       " 'tired',\n",
       " 'being',\n",
       " 'warm',\n",
       " 'and',\n",
       " 'comfortable',\n",
       " 'on',\n",
       " 'the',\n",
       " 'sette',\n",
       " 'and',\n",
       " 'having',\n",
       " 'just',\n",
       " 'eaten',\n",
       " 'a',\n",
       " 'lot',\n",
       " 'however',\n",
       " 'on',\n",
       " 'this',\n",
       " 'occasion',\n",
       " 'i',\n",
       " 'fell',\n",
       " 'asleep',\n",
       " 'because',\n",
       " 'the',\n",
       " 'film',\n",
       " 'was',\n",
       " 'rubbish',\n",
       " 'the',\n",
       " 'plot',\n",
       " 'development',\n",
       " 'was',\n",
       " 'constant',\n",
       " 'constantly',\n",
       " 'slow',\n",
       " 'and',\n",
       " 'boring',\n",
       " 'things',\n",
       " 'seemed',\n",
       " 'to',\n",
       " 'happen',\n",
       " 'but',\n",
       " 'with',\n",
       " 'no',\n",
       " 'explanation',\n",
       " 'of',\n",
       " 'what',\n",
       " 'was',\n",
       " 'causing',\n",
       " 'them',\n",
       " 'or',\n",
       " 'why',\n",
       " 'i',\n",
       " 'admit',\n",
       " 'i',\n",
       " 'may',\n",
       " 'have',\n",
       " 'missed',\n",
       " 'part',\n",
       " 'of',\n",
       " 'the',\n",
       " 'film',\n",
       " 'but',\n",
       " 'i',\n",
       " 'watched',\n",
       " 'the',\n",
       " 'majority',\n",
       " 'of',\n",
       " 'it',\n",
       " 'and',\n",
       " 'everything',\n",
       " 'just',\n",
       " 'seemed',\n",
       " 'to',\n",
       " 'happen',\n",
       " 'of',\n",
       " 'its',\n",
       " 'own',\n",
       " 'accord',\n",
       " 'without',\n",
       " 'any',\n",
       " 'real',\n",
       " 'concern',\n",
       " 'for',\n",
       " 'anything',\n",
       " 'else',\n",
       " 'i',\n",
       " 'cant',\n",
       " 'recommend',\n",
       " 'this',\n",
       " 'film',\n",
       " 'at',\n",
       " 'all']"
      ]
     },
     "execution_count": 7,
     "metadata": {},
     "output_type": "execute_result"
    }
   ],
   "source": [
    "X_train[1]"
   ]
  },
  {
   "cell_type": "code",
   "execution_count": 4,
   "metadata": {},
   "outputs": [
    {
     "data": {
      "text/plain": [
       "0"
      ]
     },
     "execution_count": 4,
     "metadata": {},
     "output_type": "execute_result"
    }
   ],
   "source": [
    "y_train[0]"
   ]
  },
  {
   "cell_type": "markdown",
   "metadata": {},
   "source": [
    "**LABELS**, the task is a binary classification problem:\n",
    "- label 0 corresponds to a negative movie review\n",
    "- label 1 corresponds to a positive movie review\n",
    "\n",
    "**INPUTS**: The data has been partially cleaned! So you don't have to worry about it in this exercise. But don't forget this step in real-life challenges. \n",
    "\n",
    "Remember that words are not computer-compatible materials? You have to tokenize them!\n",
    "\n",
    "❓ **Question** ❓ Run the following cell to tokenize your sentences"
   ]
  },
  {
   "cell_type": "code",
   "execution_count": 5,
   "metadata": {},
   "outputs": [],
   "source": [
    "from tensorflow.keras.preprocessing.text import Tokenizer\n",
    "\n",
    "# This initializes a Keras utilities that does all the tokenization for you\n",
    "tokenizer = Tokenizer()\n",
    "\n",
    "# The tokenization learns a dictionary that maps a token (integer) to each word\n",
    "# It can be done only on the train set - we are not supposed to know the test set!\n",
    "# This tokenization also lowercases your words, apply some filters, and so on - you can check the doc if you want\n",
    "tokenizer.fit_on_texts(X_train)\n",
    "    \n",
    "# We apply the tokenization to the train and test set\n",
    "X_train_token = tokenizer.texts_to_sequences(X_train)\n",
    "X_test_token = tokenizer.texts_to_sequences(X_test)"
   ]
  },
  {
   "cell_type": "markdown",
   "metadata": {},
   "source": [
    "❓ **Question** ❓ Print some of the tokenized sentences to be sure you got what you expected"
   ]
  },
  {
   "cell_type": "code",
   "execution_count": 6,
   "metadata": {
    "tags": [
     "challengify"
    ]
   },
   "outputs": [
    {
     "name": "stdout",
     "output_type": "stream",
     "text": [
      "[11, 13, 33, 422, 402, 18, 91, 27, 6893, 8, 31, 1311, 4504, 39, 539, 8007, 194, 24, 75, 161, 17, 11, 228, 336, 27, 68, 252, 203, 8, 468, 58, 68, 75, 108, 98, 21, 4165, 11, 1418, 694, 695, 11, 18, 6, 33, 389, 6065, 204, 2345, 487, 1, 86, 928, 140, 69, 158, 51, 1, 16730, 8008, 69, 251, 68, 2895, 15, 16731, 1877, 12117, 12118, 1344, 4505, 3, 38, 3640, 120, 1386, 16, 4504, 13, 164, 17, 2, 928, 805, 8009, 8, 2, 18, 12, 13, 3231, 4, 99, 142, 1239, 9, 221, 696, 12, 48, 24, 97, 35, 11, 8010, 4506, 35, 1311, 16732, 49, 375, 9, 98, 1006, 753, 137, 10]\n",
      "[9, 25, 76, 572, 5, 730, 1945, 296, 100, 17, 11, 6, 625, 662, 5, 2, 1835, 4, 190, 555, 61, 1170, 115, 2531, 3, 2896, 20, 1, 9585, 3, 264, 40, 5424, 2, 187, 200, 20, 11, 3435, 9, 1387, 1945, 80, 1, 19, 13, 1601, 1, 103, 1056, 13, 2090, 1646, 515, 3, 319, 190, 443, 5, 531, 17, 16, 53, 1878, 4, 46, 13, 4507, 94, 39, 135, 9, 929, 9, 195, 25, 1007, 170, 4, 1, 19, 17, 9, 262, 1, 2532, 4, 10, 3, 273, 40, 443, 5, 531, 4, 96, 181, 9586, 213, 99, 142, 4508, 15, 240, 298, 9, 2897, 401, 11, 19, 30, 29]\n",
      "[2445, 6894, 1, 12119, 3232, 2898, 8, 2, 1008, 1602, 3, 1879, 904, 3, 1697, 8011, 184, 790, 370, 14, 32, 205, 328, 5, 74, 7, 7, 17, 222, 20, 342, 2, 16733, 1057, 1, 92, 4, 3233, 444, 12120, 5, 12121, 494, 2, 5425, 416, 2, 5425, 3, 5, 16734, 1, 1137, 494, 87, 12122, 6066, 10, 42, 20, 1, 2770, 15, 987, 4, 1, 449, 7, 7, 164, 58, 3056, 5426, 12, 590, 20, 1, 1880, 429, 4, 1, 4925, 296, 1, 16735, 2016, 3234, 390, 2445, 3, 1089, 861, 5, 25, 2648, 3233, 444, 15, 9587, 1, 1880, 2649, 15, 1, 297, 1283, 1312, 7, 7, 1880, 815, 27, 3235, 15, 2, 9588, 3057, 527, 4, 790, 9589, 16, 11, 2446, 103, 39, 5, 3236, 132, 382, 8, 4509]\n",
      "[11, 6, 1, 231, 4, 19, 15, 2, 6895, 2650, 2771, 51, 1, 365, 4, 1, 189, 67, 134, 1345, 16, 96, 181, 988, 14, 22, 12123, 81, 2, 208, 3237, 2772, 3, 12124, 15, 2, 346, 4, 640, 384, 370, 37, 8012, 3, 4926, 1836, 14, 205, 8013, 3436, 1, 103, 362, 48, 24, 53, 12125, 5, 1603, 53, 1946, 4166, 40, 2, 2531, 3, 2249, 16736, 137, 157, 634, 109, 30, 96, 106, 2, 216, 19, 8, 159, 281, 3, 26, 12, 989, 1, 2773, 10, 2651]\n",
      "[14, 423, 25, 1073, 29, 1, 464, 12, 134, 3641, 8, 11, 19, 24, 626, 422, 1555, 1, 103, 52, 6896, 295, 1, 8014, 4, 1, 601, 16737, 51, 372, 24, 185, 32, 173, 5, 27, 9590, 17, 51, 53, 372, 24, 185, 32, 417, 1, 16738, 4, 2, 2346, 310, 153, 373, 3, 1, 373, 506, 2, 122, 61, 705, 77, 136, 29, 27, 34, 1556, 30, 11, 523, 28, 87, 201, 54, 1, 3642, 5, 4927, 23, 277, 120]\n"
     ]
    }
   ],
   "source": [
    "i = 0\n",
    "for token in X_train_token:\n",
    "    if i < 5:\n",
    "        print(token)\n",
    "    i = i + 1"
   ]
  },
  {
   "cell_type": "markdown",
   "metadata": {},
   "source": [
    "The dictionary that maps each word to a token can be accessed with `tokenizer.word_index`\n",
    "    \n",
    "❓ **Question** ❓ Add a `vocab_size` variable that stores the number of different words (=tokens) in the train set. This is called the _size of the vocabulary_."
   ]
  },
  {
   "cell_type": "code",
   "execution_count": 17,
   "metadata": {
    "tags": [
     "challengify"
    ]
   },
   "outputs": [],
   "source": [
    "vocab_size = len(tokenizer.word_index)"
   ]
  },
  {
   "cell_type": "markdown",
   "metadata": {},
   "source": [
    "Your `X_train_token` and `X_test_token` contain sequences of different lengths.\n",
    "\n",
    "<img src=\"padding.png\" alt='Word2Vec' width=\"700px\" />\n",
    "\n",
    "However, a neural network has to have a tensor as input. For this reason, you have to pad your data.\n",
    "\n",
    "❓ **Question** ❓  Pad your data with the `pad_sequences` function (documentation [here](https://www.tensorflow.org/api_docs/python/tf/keras/preprocessing/sequence/pad_sequences)). Do not forget about the `dtype` and `padding` keywords (but do not use `maxlen` here)."
   ]
  },
  {
   "cell_type": "code",
   "execution_count": 18,
   "metadata": {
    "tags": [
     "challengify"
    ]
   },
   "outputs": [],
   "source": [
    "from tensorflow.keras.utils import pad_sequences"
   ]
  },
  {
   "cell_type": "code",
   "execution_count": 42,
   "metadata": {},
   "outputs": [],
   "source": [
    "X_train_pad = pad_sequences(X_train_token, dtype='float32', padding='post', value=0)"
   ]
  },
  {
   "cell_type": "code",
   "execution_count": 43,
   "metadata": {},
   "outputs": [],
   "source": [
    "X_test_pad = pad_sequences(X_test_token, dtype='float32', padding='post', value=0)"
   ]
  },
  {
   "cell_type": "markdown",
   "metadata": {},
   "source": [
    "# The RNN\n",
    "\n",
    "Let's now feed this data to a Recurrent Neural Network.\n",
    "\n",
    "❓ **Question** ❓ Write a model that has:\n",
    "- an embedding layer whose `input_dim` is the size of your vocabulary (= your `vocab_size`), and whose `output_dim` is the size of the embedding space you want to have\n",
    "- a RNN (SimpleRNN, LSTM, GRU) layer\n",
    "- a Dense layer\n",
    "- an output layer\n",
    "\n",
    "⚠️ **Warning** ⚠️ Here, you don't need a masking layer. Why? Because `layers.Embedding` has a argument to do that directly, which you have to set with `mask_zero=True`. That also means that your data **HAS TO** be padded with **0** (which is the default behavior). See the [documentation](https://www.tensorflow.org/api_docs/python/tf/keras/layers/Embedding#example_2) to understand how it **impacts** the `input_dim`.\n",
    "\n",
    "<details>\n",
    "    <summary>💡 Hint</summary>\n",
    "\n",
    "`input_dim` should equal size of vocabulary + 1\n",
    "\n",
    "</details>\n",
    "\n",
    "Compile it with the appropriate arguments"
   ]
  },
  {
   "cell_type": "code",
   "execution_count": 44,
   "metadata": {
    "tags": [
     "challengify"
    ]
   },
   "outputs": [],
   "source": [
    "from tensorflow.keras import layers, Sequential"
   ]
  },
  {
   "cell_type": "code",
   "execution_count": 45,
   "metadata": {},
   "outputs": [],
   "source": [
    "from tensorflow.keras.layers import LSTM"
   ]
  },
  {
   "cell_type": "code",
   "execution_count": 52,
   "metadata": {},
   "outputs": [],
   "source": [
    "model = Sequential()\n",
    "model.add(layers.Embedding(input_dim=vocab_size+1, output_dim=10, mask_zero=True))\n",
    "model.add(LSTM(30))\n",
    "model.add(layers.Dense(20))\n",
    "model.add(layers.Dense(1, activation='sigmoid'))\n",
    "model.compile(optimizer='adam', loss=\"binary_crossentropy\", metrics='accuracy')"
   ]
  },
  {
   "cell_type": "markdown",
   "metadata": {},
   "source": [
    "❓ **Question** ❓ Look at the number of parameters in your RNN. "
   ]
  },
  {
   "cell_type": "code",
   "execution_count": 53,
   "metadata": {
    "tags": [
     "challengify"
    ]
   },
   "outputs": [
    {
     "name": "stdout",
     "output_type": "stream",
     "text": [
      "Model: \"sequential_7\"\n",
      "_________________________________________________________________\n",
      " Layer (type)                Output Shape              Param #   \n",
      "=================================================================\n",
      " embedding_6 (Embedding)     (None, None, 10)          304200    \n",
      "                                                                 \n",
      " lstm_6 (LSTM)               (None, 30)                4920      \n",
      "                                                                 \n",
      " dense_12 (Dense)            (None, 20)                620       \n",
      "                                                                 \n",
      " dense_13 (Dense)            (None, 1)                 21        \n",
      "                                                                 \n",
      "=================================================================\n",
      "Total params: 309,761\n",
      "Trainable params: 309,761\n",
      "Non-trainable params: 0\n",
      "_________________________________________________________________\n"
     ]
    }
   ],
   "source": [
    "model.summary()"
   ]
  },
  {
   "cell_type": "markdown",
   "metadata": {},
   "source": [
    "❓ Double-check that the number of parameters in your embedding layer is equal to the (number of words in your vocabulary + 1 for the masking value) $\\times$  the dimension of your embedding."
   ]
  },
  {
   "cell_type": "code",
   "execution_count": 54,
   "metadata": {
    "tags": [
     "challengify"
    ]
   },
   "outputs": [
    {
     "data": {
      "text/plain": [
       "304200"
      ]
     },
     "execution_count": 54,
     "metadata": {},
     "output_type": "execute_result"
    }
   ],
   "source": [
    "(vocab_size + 1)*10"
   ]
  },
  {
   "cell_type": "markdown",
   "metadata": {},
   "source": [
    "❓ **Question** ❓ Start fitting your model with 20 epochs, with an early stopping criterion whose patience is equal to 4.\n",
    "\n",
    "⚠️ **Warning** ⚠️ You might see that it takes a lot of time! \n",
    "\n",
    "**So stop it after a couple of iterations!**"
   ]
  },
  {
   "cell_type": "code",
   "execution_count": 55,
   "metadata": {},
   "outputs": [],
   "source": [
    "from tensorflow.keras.callbacks import EarlyStopping"
   ]
  },
  {
   "cell_type": "code",
   "execution_count": 56,
   "metadata": {},
   "outputs": [],
   "source": [
    "es = EarlyStopping(patience=4)"
   ]
  },
  {
   "cell_type": "code",
   "execution_count": 57,
   "metadata": {
    "tags": [
     "challengify"
    ]
   },
   "outputs": [
    {
     "name": "stdout",
     "output_type": "stream",
     "text": [
      "Epoch 1/10\n",
      "32/32 [==============================] - 18s 487ms/step - loss: 0.6921 - accuracy: 0.5270 - val_loss: 0.6890 - val_accuracy: 0.6440\n",
      "Epoch 2/10\n",
      "32/32 [==============================] - 15s 461ms/step - loss: 0.6303 - accuracy: 0.6885 - val_loss: 0.5244 - val_accuracy: 0.7480\n",
      "Epoch 3/10\n",
      "32/32 [==============================] - 15s 463ms/step - loss: 0.3049 - accuracy: 0.8855 - val_loss: 0.3832 - val_accuracy: 0.8440\n",
      "Epoch 4/10\n",
      "32/32 [==============================] - 15s 474ms/step - loss: 0.0827 - accuracy: 0.9750 - val_loss: 0.5532 - val_accuracy: 0.8120\n",
      "Epoch 5/10\n",
      "32/32 [==============================] - 15s 470ms/step - loss: 0.0341 - accuracy: 0.9900 - val_loss: 0.5227 - val_accuracy: 0.8320\n",
      "Epoch 6/10\n",
      "32/32 [==============================] - 16s 489ms/step - loss: 0.0220 - accuracy: 0.9980 - val_loss: 0.4360 - val_accuracy: 0.8020\n",
      "Epoch 7/10\n",
      "32/32 [==============================] - 15s 482ms/step - loss: 0.0104 - accuracy: 0.9985 - val_loss: 0.6783 - val_accuracy: 0.8340\n"
     ]
    },
    {
     "data": {
      "text/plain": [
       "<keras.callbacks.History at 0x7f006568e830>"
      ]
     },
     "execution_count": 57,
     "metadata": {},
     "output_type": "execute_result"
    }
   ],
   "source": [
    "model.fit(X_train_pad, y_train, batch_size=64, epochs=10, validation_split=0.2, callbacks=[es])"
   ]
  },
  {
   "cell_type": "markdown",
   "metadata": {},
   "source": [
    "Let's not waste too much time just staring at our screen or having coffees. It is too early to start having breaks ;)\n",
    "\n",
    "❓ **Question** ❓ We will reduce the computational time. To start, let's first look at how many words there are in the different sentences of your train set (Just run the following cell)."
   ]
  },
  {
   "cell_type": "code",
   "execution_count": 58,
   "metadata": {},
   "outputs": [
    {
     "data": {
      "image/png": "[encoded data removed]",
      "text/plain": [
       "<Figure size 640x480 with 1 Axes>"
      ]
     },
     "metadata": {},
     "output_type": "display_data"
    }
   ],
   "source": [
    "import matplotlib.pyplot as plt\n",
    "%matplotlib inline\n",
    "\n",
    "def plot_hist(X):\n",
    "    len_ = [len(_) for _ in X]\n",
    "    plt.hist(len_)\n",
    "    plt.title('Histogram of the number of sentences that have a given number of words')\n",
    "    plt.show()\n",
    "    \n",
    "plot_hist(X_train)\n"
   ]
  },
  {
   "cell_type": "markdown",
   "metadata": {},
   "source": [
    "You will probably see that 90 to 95% of your sentences have less than 300 words. And very few have more than 1000.\n",
    "\n",
    "However, as you didn't use `maxlen` in your padding above, your input tensor has a dimension equal to the length of the sentence that has the maximum number of words.\n",
    "\n",
    "Now, let's look at how this affects the padding: \n",
    "\n",
    "\n",
    "<img src=\"tensor_size.png\" alt='Word2Vec' width=\"700px\" />\n",
    "\n",
    "Because of a few of very long sentences, one dimension of your tensor is equal to around 1000. However, most of the sentences with ~200 words have just padded values that are useless.\n",
    "\n",
    "So your tensor is mostly useless information, which still adds time to the training process.\n",
    "\n",
    "But what if you pad the data to a maximum length (`maxlen`) of say 200 (words)?\n",
    "- First, that would increase the convergence and you would not need to stare at your screen while waiting for the algorithm to converge\n",
    "- But in essence, do you really lose that much information? Do you think that you often need more than 200 words (up to 1000) to tell whether or not a sentence is positive of negative?\n",
    "\n",
    "❓ **Question** ❓ For all these reasons, re-do your padding using the `maxlen` keyword and retrain the model!  See how much faster it is now - without hurting the performance ;)"
   ]
  },
  {
   "cell_type": "code",
   "execution_count": 59,
   "metadata": {},
   "outputs": [],
   "source": [
    "X_train_limited_pad = pad_sequences(X_train_token, dtype='float32', padding='post', value=0, maxlen=200)"
   ]
  },
  {
   "cell_type": "code",
   "execution_count": 60,
   "metadata": {
    "tags": [
     "challengify"
    ]
   },
   "outputs": [],
   "source": [
    "X_test_limited_pad = pad_sequences(X_train_token, dtype='float32', padding='post', value=0,maxlen=200)"
   ]
  },
  {
   "cell_type": "code",
   "execution_count": 61,
   "metadata": {},
   "outputs": [],
   "source": [
    "model = Sequential()\n",
    "model.add(layers.Embedding(input_dim=vocab_size+1, output_dim=10, mask_zero=True))\n",
    "model.add(LSTM(30))\n",
    "model.add(layers.Dense(20))\n",
    "model.add(layers.Dense(1, activation='sigmoid'))\n",
    "model.compile(optimizer='adam', loss=\"binary_crossentropy\", metrics='accuracy')"
   ]
  },
  {
   "cell_type": "code",
   "execution_count": 62,
   "metadata": {},
   "outputs": [
    {
     "name": "stdout",
     "output_type": "stream",
     "text": [
      "Epoch 1/10\n",
      "32/32 [==============================] - 5s 105ms/step - loss: 0.6928 - accuracy: 0.5185 - val_loss: 0.6915 - val_accuracy: 0.6240\n",
      "Epoch 2/10\n",
      "32/32 [==============================] - 3s 87ms/step - loss: 0.6700 - accuracy: 0.6870 - val_loss: 0.6479 - val_accuracy: 0.5980\n",
      "Epoch 3/10\n",
      "32/32 [==============================] - 3s 82ms/step - loss: 0.4986 - accuracy: 0.8085 - val_loss: 0.4507 - val_accuracy: 0.7900\n",
      "Epoch 4/10\n",
      "32/32 [==============================] - 3s 84ms/step - loss: 0.1900 - accuracy: 0.9335 - val_loss: 0.3931 - val_accuracy: 0.8220\n",
      "Epoch 5/10\n",
      "32/32 [==============================] - 3s 90ms/step - loss: 0.0574 - accuracy: 0.9835 - val_loss: 0.3957 - val_accuracy: 0.8040\n",
      "Epoch 6/10\n",
      "32/32 [==============================] - 3s 83ms/step - loss: 0.0325 - accuracy: 0.9940 - val_loss: 0.4859 - val_accuracy: 0.8260\n",
      "Epoch 7/10\n",
      "32/32 [==============================] - 3s 83ms/step - loss: 0.0111 - accuracy: 0.9975 - val_loss: 0.8301 - val_accuracy: 0.8000\n",
      "Epoch 8/10\n",
      "32/32 [==============================] - 3s 88ms/step - loss: 0.0029 - accuracy: 0.9995 - val_loss: 0.6362 - val_accuracy: 0.8060\n"
     ]
    },
    {
     "data": {
      "text/plain": [
       "<keras.callbacks.History at 0x7f006551cf10>"
      ]
     },
     "execution_count": 62,
     "metadata": {},
     "output_type": "execute_result"
    }
   ],
   "source": [
    "model.fit(X_train_limited_pad, y_train, batch_size=64, epochs=10, validation_split=0.2, callbacks=[es])"
   ]
  },
  {
   "cell_type": "code",
   "execution_count": null,
   "metadata": {},
   "outputs": [],
   "source": []
  }
 ],
 "metadata": {
  "kernelspec": {
   "display_name": "Python 3 (ipykernel)",
   "language": "python",
   "name": "python3"
  },
  "language_info": {
   "codemirror_mode": {
    "name": "ipython",
    "version": 3
   },
   "file_extension": ".py",
   "mimetype": "text/x-python",
   "name": "python",
   "nbconvert_exporter": "python",
   "pygments_lexer": "ipython3",
   "version": "3.10.6"
  },
  "toc": {
   "base_numbering": 1,
   "nav_menu": {},
   "number_sections": true,
   "sideBar": true,
   "skip_h1_title": false,
   "title_cell": "Table of Contents",
   "title_sidebar": "Contents",
   "toc_cell": false,
   "toc_position": {},
   "toc_section_display": true,
   "toc_window_display": false
  }
 },
 "nbformat": 4,
 "nbformat_minor": 4
}
